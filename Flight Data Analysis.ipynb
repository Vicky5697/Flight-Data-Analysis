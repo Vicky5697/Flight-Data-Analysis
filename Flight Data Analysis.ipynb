{
 "cells": [
  {
   "cell_type": "markdown",
   "id": "6af2d06e",
   "metadata": {},
   "source": [
    "### Flight Data Analysis"
   ]
  },
  {
   "cell_type": "raw",
   "id": "d58fcc81",
   "metadata": {},
   "source": [
    "Dataset contains information about flight booking options from the website Easemytrip for flight travel between India's top 6 metro cities. \n",
    "There are 300261 datapoints and 11 features in the cleaned dataset."
   ]
  },
  {
   "cell_type": "markdown",
   "id": "0ba0d121",
   "metadata": {},
   "source": [
    "### Import Modules"
   ]
  },
  {
   "cell_type": "code",
   "execution_count": 1,
   "id": "68bfcead",
   "metadata": {},
   "outputs": [],
   "source": [
    "import numpy as np\n",
    "import pandas as pd\n",
    "import matplotlib.pyplot as plt\n",
    "import seaborn as sns\n",
    "%matplotlib inline"
   ]
  },
  {
   "cell_type": "markdown",
   "id": "5e2f5dff",
   "metadata": {},
   "source": [
    "### Reading the dataset"
   ]
  },
  {
   "cell_type": "code",
   "execution_count": 2,
   "id": "d76311ba",
   "metadata": {},
   "outputs": [],
   "source": [
    "data = pd.read_csv('Flight Dataset.csv')"
   ]
  },
  {
   "cell_type": "code",
   "execution_count": 3,
   "id": "72ca04b1",
   "metadata": {
    "scrolled": true
   },
   "outputs": [
    {
     "data": {
      "text/html": [
       "<div>\n",
       "<style scoped>\n",
       "    .dataframe tbody tr th:only-of-type {\n",
       "        vertical-align: middle;\n",
       "    }\n",
       "\n",
       "    .dataframe tbody tr th {\n",
       "        vertical-align: top;\n",
       "    }\n",
       "\n",
       "    .dataframe thead th {\n",
       "        text-align: right;\n",
       "    }\n",
       "</style>\n",
       "<table border=\"1\" class=\"dataframe\">\n",
       "  <thead>\n",
       "    <tr style=\"text-align: right;\">\n",
       "      <th></th>\n",
       "      <th>Unnamed: 0</th>\n",
       "      <th>airline</th>\n",
       "      <th>flight</th>\n",
       "      <th>source_city</th>\n",
       "      <th>departure_time</th>\n",
       "      <th>stops</th>\n",
       "      <th>arrival_time</th>\n",
       "      <th>destination_city</th>\n",
       "      <th>class</th>\n",
       "      <th>duration</th>\n",
       "      <th>days_left</th>\n",
       "      <th>price</th>\n",
       "    </tr>\n",
       "  </thead>\n",
       "  <tbody>\n",
       "    <tr>\n",
       "      <th>0</th>\n",
       "      <td>0</td>\n",
       "      <td>SpiceJet</td>\n",
       "      <td>SG-8709</td>\n",
       "      <td>Delhi</td>\n",
       "      <td>Evening</td>\n",
       "      <td>zero</td>\n",
       "      <td>Night</td>\n",
       "      <td>Mumbai</td>\n",
       "      <td>Economy</td>\n",
       "      <td>2.17</td>\n",
       "      <td>1</td>\n",
       "      <td>5953</td>\n",
       "    </tr>\n",
       "    <tr>\n",
       "      <th>1</th>\n",
       "      <td>1</td>\n",
       "      <td>SpiceJet</td>\n",
       "      <td>SG-8157</td>\n",
       "      <td>Delhi</td>\n",
       "      <td>Early_Morning</td>\n",
       "      <td>zero</td>\n",
       "      <td>Morning</td>\n",
       "      <td>Mumbai</td>\n",
       "      <td>Economy</td>\n",
       "      <td>2.33</td>\n",
       "      <td>1</td>\n",
       "      <td>5953</td>\n",
       "    </tr>\n",
       "    <tr>\n",
       "      <th>2</th>\n",
       "      <td>2</td>\n",
       "      <td>AirAsia</td>\n",
       "      <td>I5-764</td>\n",
       "      <td>Delhi</td>\n",
       "      <td>Early_Morning</td>\n",
       "      <td>zero</td>\n",
       "      <td>Early_Morning</td>\n",
       "      <td>Mumbai</td>\n",
       "      <td>Economy</td>\n",
       "      <td>2.17</td>\n",
       "      <td>1</td>\n",
       "      <td>5956</td>\n",
       "    </tr>\n",
       "    <tr>\n",
       "      <th>3</th>\n",
       "      <td>3</td>\n",
       "      <td>Vistara</td>\n",
       "      <td>UK-995</td>\n",
       "      <td>Delhi</td>\n",
       "      <td>Morning</td>\n",
       "      <td>zero</td>\n",
       "      <td>Afternoon</td>\n",
       "      <td>Mumbai</td>\n",
       "      <td>Economy</td>\n",
       "      <td>2.25</td>\n",
       "      <td>1</td>\n",
       "      <td>5955</td>\n",
       "    </tr>\n",
       "    <tr>\n",
       "      <th>4</th>\n",
       "      <td>4</td>\n",
       "      <td>Vistara</td>\n",
       "      <td>UK-963</td>\n",
       "      <td>Delhi</td>\n",
       "      <td>Morning</td>\n",
       "      <td>zero</td>\n",
       "      <td>Morning</td>\n",
       "      <td>Mumbai</td>\n",
       "      <td>Economy</td>\n",
       "      <td>2.33</td>\n",
       "      <td>1</td>\n",
       "      <td>5955</td>\n",
       "    </tr>\n",
       "  </tbody>\n",
       "</table>\n",
       "</div>"
      ],
      "text/plain": [
       "   Unnamed: 0   airline   flight source_city departure_time stops  \\\n",
       "0           0  SpiceJet  SG-8709       Delhi        Evening  zero   \n",
       "1           1  SpiceJet  SG-8157       Delhi  Early_Morning  zero   \n",
       "2           2   AirAsia   I5-764       Delhi  Early_Morning  zero   \n",
       "3           3   Vistara   UK-995       Delhi        Morning  zero   \n",
       "4           4   Vistara   UK-963       Delhi        Morning  zero   \n",
       "\n",
       "    arrival_time destination_city    class  duration  days_left  price  \n",
       "0          Night           Mumbai  Economy      2.17          1   5953  \n",
       "1        Morning           Mumbai  Economy      2.33          1   5953  \n",
       "2  Early_Morning           Mumbai  Economy      2.17          1   5956  \n",
       "3      Afternoon           Mumbai  Economy      2.25          1   5955  \n",
       "4        Morning           Mumbai  Economy      2.33          1   5955  "
      ]
     },
     "execution_count": 3,
     "metadata": {},
     "output_type": "execute_result"
    }
   ],
   "source": [
    "data.head()"
   ]
  },
  {
   "cell_type": "markdown",
   "id": "9df264f3",
   "metadata": {},
   "source": [
    "### Getting Basic Data Information"
   ]
  },
  {
   "cell_type": "code",
   "execution_count": 4,
   "id": "ac4c841f",
   "metadata": {},
   "outputs": [
    {
     "name": "stdout",
     "output_type": "stream",
     "text": [
      "<class 'pandas.core.frame.DataFrame'>\n",
      "RangeIndex: 300153 entries, 0 to 300152\n",
      "Data columns (total 12 columns):\n",
      " #   Column            Non-Null Count   Dtype  \n",
      "---  ------            --------------   -----  \n",
      " 0   Unnamed: 0        300153 non-null  int64  \n",
      " 1   airline           300153 non-null  object \n",
      " 2   flight            300153 non-null  object \n",
      " 3   source_city       300153 non-null  object \n",
      " 4   departure_time    300153 non-null  object \n",
      " 5   stops             300153 non-null  object \n",
      " 6   arrival_time      300153 non-null  object \n",
      " 7   destination_city  300153 non-null  object \n",
      " 8   class             300153 non-null  object \n",
      " 9   duration          300153 non-null  float64\n",
      " 10  days_left         300153 non-null  int64  \n",
      " 11  price             300153 non-null  int64  \n",
      "dtypes: float64(1), int64(3), object(8)\n",
      "memory usage: 27.5+ MB\n"
     ]
    }
   ],
   "source": [
    "data.info()"
   ]
  },
  {
   "cell_type": "code",
   "execution_count": 5,
   "id": "9a41cf4d",
   "metadata": {},
   "outputs": [
    {
     "data": {
      "text/html": [
       "<div>\n",
       "<style scoped>\n",
       "    .dataframe tbody tr th:only-of-type {\n",
       "        vertical-align: middle;\n",
       "    }\n",
       "\n",
       "    .dataframe tbody tr th {\n",
       "        vertical-align: top;\n",
       "    }\n",
       "\n",
       "    .dataframe thead th {\n",
       "        text-align: right;\n",
       "    }\n",
       "</style>\n",
       "<table border=\"1\" class=\"dataframe\">\n",
       "  <thead>\n",
       "    <tr style=\"text-align: right;\">\n",
       "      <th></th>\n",
       "      <th>Unnamed: 0</th>\n",
       "      <th>duration</th>\n",
       "      <th>days_left</th>\n",
       "      <th>price</th>\n",
       "    </tr>\n",
       "  </thead>\n",
       "  <tbody>\n",
       "    <tr>\n",
       "      <th>count</th>\n",
       "      <td>300153.000000</td>\n",
       "      <td>300153.000000</td>\n",
       "      <td>300153.000000</td>\n",
       "      <td>300153.000000</td>\n",
       "    </tr>\n",
       "    <tr>\n",
       "      <th>mean</th>\n",
       "      <td>150076.000000</td>\n",
       "      <td>12.221021</td>\n",
       "      <td>26.004751</td>\n",
       "      <td>20889.660523</td>\n",
       "    </tr>\n",
       "    <tr>\n",
       "      <th>std</th>\n",
       "      <td>86646.852011</td>\n",
       "      <td>7.191997</td>\n",
       "      <td>13.561004</td>\n",
       "      <td>22697.767366</td>\n",
       "    </tr>\n",
       "    <tr>\n",
       "      <th>min</th>\n",
       "      <td>0.000000</td>\n",
       "      <td>0.830000</td>\n",
       "      <td>1.000000</td>\n",
       "      <td>1105.000000</td>\n",
       "    </tr>\n",
       "    <tr>\n",
       "      <th>25%</th>\n",
       "      <td>75038.000000</td>\n",
       "      <td>6.830000</td>\n",
       "      <td>15.000000</td>\n",
       "      <td>4783.000000</td>\n",
       "    </tr>\n",
       "    <tr>\n",
       "      <th>50%</th>\n",
       "      <td>150076.000000</td>\n",
       "      <td>11.250000</td>\n",
       "      <td>26.000000</td>\n",
       "      <td>7425.000000</td>\n",
       "    </tr>\n",
       "    <tr>\n",
       "      <th>75%</th>\n",
       "      <td>225114.000000</td>\n",
       "      <td>16.170000</td>\n",
       "      <td>38.000000</td>\n",
       "      <td>42521.000000</td>\n",
       "    </tr>\n",
       "    <tr>\n",
       "      <th>max</th>\n",
       "      <td>300152.000000</td>\n",
       "      <td>49.830000</td>\n",
       "      <td>49.000000</td>\n",
       "      <td>123071.000000</td>\n",
       "    </tr>\n",
       "  </tbody>\n",
       "</table>\n",
       "</div>"
      ],
      "text/plain": [
       "          Unnamed: 0       duration      days_left          price\n",
       "count  300153.000000  300153.000000  300153.000000  300153.000000\n",
       "mean   150076.000000      12.221021      26.004751   20889.660523\n",
       "std     86646.852011       7.191997      13.561004   22697.767366\n",
       "min         0.000000       0.830000       1.000000    1105.000000\n",
       "25%     75038.000000       6.830000      15.000000    4783.000000\n",
       "50%    150076.000000      11.250000      26.000000    7425.000000\n",
       "75%    225114.000000      16.170000      38.000000   42521.000000\n",
       "max    300152.000000      49.830000      49.000000  123071.000000"
      ]
     },
     "execution_count": 5,
     "metadata": {},
     "output_type": "execute_result"
    }
   ],
   "source": [
    "data.describe()"
   ]
  },
  {
   "cell_type": "code",
   "execution_count": 6,
   "id": "7707c370",
   "metadata": {},
   "outputs": [
    {
     "data": {
      "text/plain": [
       "(300153, 12)"
      ]
     },
     "execution_count": 6,
     "metadata": {},
     "output_type": "execute_result"
    }
   ],
   "source": [
    "data.shape"
   ]
  },
  {
   "cell_type": "code",
   "execution_count": 7,
   "id": "22756268",
   "metadata": {
    "scrolled": true
   },
   "outputs": [
    {
     "data": {
      "text/plain": [
       "Index(['Unnamed: 0', 'airline', 'flight', 'source_city', 'departure_time',\n",
       "       'stops', 'arrival_time', 'destination_city', 'class', 'duration',\n",
       "       'days_left', 'price'],\n",
       "      dtype='object')"
      ]
     },
     "execution_count": 7,
     "metadata": {},
     "output_type": "execute_result"
    }
   ],
   "source": [
    "data.columns"
   ]
  },
  {
   "cell_type": "markdown",
   "id": "6c341dff",
   "metadata": {},
   "source": [
    "### Data Cleaning"
   ]
  },
  {
   "cell_type": "code",
   "execution_count": 8,
   "id": "79b3f398",
   "metadata": {},
   "outputs": [],
   "source": [
    "data.drop('Unnamed: 0', axis=1, inplace=True)"
   ]
  },
  {
   "cell_type": "code",
   "execution_count": 9,
   "id": "660f3023",
   "metadata": {},
   "outputs": [
    {
     "data": {
      "text/plain": [
       "airline             0\n",
       "flight              0\n",
       "source_city         0\n",
       "departure_time      0\n",
       "stops               0\n",
       "arrival_time        0\n",
       "destination_city    0\n",
       "class               0\n",
       "duration            0\n",
       "days_left           0\n",
       "price               0\n",
       "dtype: int64"
      ]
     },
     "execution_count": 9,
     "metadata": {},
     "output_type": "execute_result"
    }
   ],
   "source": [
    "data.isnull().sum()"
   ]
  },
  {
   "cell_type": "markdown",
   "id": "b6219b9a",
   "metadata": {},
   "source": [
    "### Data Visualization"
   ]
  },
  {
   "cell_type": "markdown",
   "id": "8b52b3d3",
   "metadata": {},
   "source": [
    "### Airline Counts"
   ]
  },
  {
   "cell_type": "code",
   "execution_count": 10,
   "id": "b3cf2f0e",
   "metadata": {},
   "outputs": [
    {
     "name": "stderr",
     "output_type": "stream",
     "text": [
      "C:\\Users\\Vicky\\AppData\\Local\\Programs\\Python\\Python310\\lib\\site-packages\\seaborn\\_decorators.py:36: FutureWarning: Pass the following variable as a keyword arg: x. From version 0.12, the only valid positional argument will be `data`, and passing other arguments without an explicit keyword will result in an error or misinterpretation.\n",
      "  warnings.warn(\n"
     ]
    },
    {
     "data": {
      "image/png": "[encoded data removed]",
      "text/plain": [
       "<Figure size 720x360 with 1 Axes>"
      ]
     },
     "metadata": {
      "needs_background": "light"
     },
     "output_type": "display_data"
    }
   ],
   "source": [
    "plt.figure(figsize=(10,5))\n",
    "sns.countplot(data['airline'])\n",
    "plt.title('Airline Counts')\n",
    "plt.xlabel('Airlines')\n",
    "plt.show()"
   ]
  },
  {
   "cell_type": "markdown",
   "id": "04f8ad27",
   "metadata": {},
   "source": [
    "### Cost of Airlines"
   ]
  },
  {
   "cell_type": "code",
   "execution_count": 11,
   "id": "c07d8af3",
   "metadata": {},
   "outputs": [
    {
     "data": {
      "image/png": "[encoded data removed]",
      "text/plain": [
       "<Figure size 1080x360 with 1 Axes>"
      ]
     },
     "metadata": {
      "needs_background": "light"
     },
     "output_type": "display_data"
    }
   ],
   "source": [
    "plt.figure(figsize=(15,5))\n",
    "sns.boxplot(x=data['airline'], y=data['price'])\n",
    "plt.title('Cost of Airlines')\n",
    "plt.xlabel('Airlines')\n",
    "plt.ylabel('Price')\n",
    "plt.show()"
   ]
  },
  {
   "cell_type": "markdown",
   "id": "c16e9d8b",
   "metadata": {},
   "source": [
    "### City Counts"
   ]
  },
  {
   "cell_type": "code",
   "execution_count": 12,
   "id": "6c4466a8",
   "metadata": {},
   "outputs": [
    {
     "data": {
      "text/plain": [
       "Delhi        61343\n",
       "Mumbai       60896\n",
       "Bangalore    52061\n",
       "Kolkata      46347\n",
       "Hyderabad    40806\n",
       "Chennai      38700\n",
       "Name: source_city, dtype: int64"
      ]
     },
     "execution_count": 12,
     "metadata": {},
     "output_type": "execute_result"
    }
   ],
   "source": [
    "data['source_city'].value_counts()"
   ]
  },
  {
   "cell_type": "markdown",
   "id": "1ae82c06",
   "metadata": {},
   "source": [
    "### Flight price by City"
   ]
  },
  {
   "cell_type": "code",
   "execution_count": 13,
   "id": "fca318fb",
   "metadata": {},
   "outputs": [
    {
     "data": {
      "image/png": "[encoded data removed]",
      "text/plain": [
       "<Figure size 1080x360 with 1 Axes>"
      ]
     },
     "metadata": {
      "needs_background": "light"
     },
     "output_type": "display_data"
    }
   ],
   "source": [
    "plt.figure(figsize=(15,5))\n",
    "sns.barplot(x=data['source_city'], y=data['price'])\n",
    "plt.title('Flight price by City')\n",
    "plt.xlabel('City')\n",
    "plt.ylabel('Price')\n",
    "plt.show()"
   ]
  },
  {
   "cell_type": "markdown",
   "id": "b40ee32d",
   "metadata": {},
   "source": [
    "### Destination by price"
   ]
  },
  {
   "cell_type": "code",
   "execution_count": 14,
   "id": "1e2dfd92",
   "metadata": {},
   "outputs": [
    {
     "data": {
      "text/plain": [
       "Mumbai       59097\n",
       "Delhi        57360\n",
       "Bangalore    51068\n",
       "Kolkata      49534\n",
       "Hyderabad    42726\n",
       "Chennai      40368\n",
       "Name: destination_city, dtype: int64"
      ]
     },
     "execution_count": 14,
     "metadata": {},
     "output_type": "execute_result"
    }
   ],
   "source": [
    "data['destination_city'].value_counts()"
   ]
  },
  {
   "cell_type": "code",
   "execution_count": 33,
   "id": "cf837c56",
   "metadata": {},
   "outputs": [
    {
     "data": {
      "image/png": "[encoded data removed]",
      "text/plain": [
       "<Figure size 1080x360 with 1 Axes>"
      ]
     },
     "metadata": {
      "needs_background": "light"
     },
     "output_type": "display_data"
    }
   ],
   "source": [
    "plt.figure(figsize=(15,5))\n",
    "sns.boxplot(x=data['destination_city'], y=data['price'])\n",
    "plt.title('Flight price by Destination City')\n",
    "plt.xlabel('City')\n",
    "plt.ylabel('Price')\n",
    "plt.show()"
   ]
  },
  {
   "cell_type": "markdown",
   "id": "38dee412",
   "metadata": {},
   "source": [
    "### Price by Departure_time"
   ]
  },
  {
   "cell_type": "code",
   "execution_count": 16,
   "id": "bf7c2553",
   "metadata": {},
   "outputs": [
    {
     "data": {
      "text/plain": [
       "Morning          71146\n",
       "Early_Morning    66790\n",
       "Evening          65102\n",
       "Night            48015\n",
       "Afternoon        47794\n",
       "Late_Night        1306\n",
       "Name: departure_time, dtype: int64"
      ]
     },
     "execution_count": 16,
     "metadata": {},
     "output_type": "execute_result"
    }
   ],
   "source": [
    "data['departure_time'].value_counts()"
   ]
  },
  {
   "cell_type": "code",
   "execution_count": 19,
   "id": "493c8ca2",
   "metadata": {},
   "outputs": [
    {
     "data": {
      "image/png": "[encoded data removed]",
      "text/plain": [
       "<Figure size 1080x360 with 1 Axes>"
      ]
     },
     "metadata": {
      "needs_background": "light"
     },
     "output_type": "display_data"
    }
   ],
   "source": [
    "plt.figure(figsize=(15,5))\n",
    "sns.countplot(x=data['departure_time'])\n",
    "plt.title('Flight price by Departure Time')\n",
    "plt.xlabel('Departure Time')\n",
    "plt.ylabel('Price')\n",
    "plt.show()"
   ]
  },
  {
   "cell_type": "code",
   "execution_count": 32,
   "id": "55e8dcf2",
   "metadata": {},
   "outputs": [
    {
     "data": {
      "image/png": "[encoded data removed]",
      "text/plain": [
       "<Figure size 1080x360 with 1 Axes>"
      ]
     },
     "metadata": {
      "needs_background": "light"
     },
     "output_type": "display_data"
    }
   ],
   "source": [
    "plt.figure(figsize=(15,5))\n",
    "sns.boxenplot(x=data['departure_time'], y=data['price'])\n",
    "plt.title('Flight price by Departure Time')\n",
    "plt.xlabel('Departure Time')\n",
    "plt.ylabel('Price')\n",
    "plt.show()"
   ]
  },
  {
   "cell_type": "markdown",
   "id": "3a05a0c1",
   "metadata": {},
   "source": [
    "### Price by Arrival time "
   ]
  },
  {
   "cell_type": "code",
   "execution_count": 22,
   "id": "9c6765af",
   "metadata": {
    "scrolled": true
   },
   "outputs": [
    {
     "data": {
      "text/plain": [
       "Night            91538\n",
       "Evening          78323\n",
       "Morning          62735\n",
       "Afternoon        38139\n",
       "Early_Morning    15417\n",
       "Late_Night       14001\n",
       "Name: arrival_time, dtype: int64"
      ]
     },
     "execution_count": 22,
     "metadata": {},
     "output_type": "execute_result"
    }
   ],
   "source": [
    "data['arrival_time'].value_counts()"
   ]
  },
  {
   "cell_type": "code",
   "execution_count": 26,
   "id": "acd008c0",
   "metadata": {},
   "outputs": [
    {
     "name": "stderr",
     "output_type": "stream",
     "text": [
      "C:\\Users\\Vicky\\AppData\\Local\\Programs\\Python\\Python310\\lib\\site-packages\\seaborn\\_decorators.py:36: FutureWarning: Pass the following variable as a keyword arg: x. From version 0.12, the only valid positional argument will be `data`, and passing other arguments without an explicit keyword will result in an error or misinterpretation.\n",
      "  warnings.warn(\n"
     ]
    },
    {
     "data": {
      "image/png": "[encoded data removed]",
      "text/plain": [
       "<Figure size 720x360 with 1 Axes>"
      ]
     },
     "metadata": {
      "needs_background": "light"
     },
     "output_type": "display_data"
    }
   ],
   "source": [
    "plt.figure(figsize=(10,5))\n",
    "sns.countplot(data['arrival_time'])\n",
    "plt.show()"
   ]
  },
  {
   "cell_type": "code",
   "execution_count": 31,
   "id": "039941be",
   "metadata": {},
   "outputs": [
    {
     "data": {
      "image/png": "[encoded data removed]",
      "text/plain": [
       "<Figure size 1080x360 with 1 Axes>"
      ]
     },
     "metadata": {
      "needs_background": "light"
     },
     "output_type": "display_data"
    }
   ],
   "source": [
    "plt.figure(figsize=(15,5))\n",
    "sns.boxplot(x=data['arrival_time'], y=data['price'])\n",
    "plt.title('Arrival Time by price')\n",
    "plt.xlabel('Arrival Time')\n",
    "plt.ylabel('Price')\n",
    "plt.show()"
   ]
  },
  {
   "cell_type": "markdown",
   "id": "8214e2cf",
   "metadata": {},
   "source": [
    "### Class vs Price"
   ]
  },
  {
   "cell_type": "code",
   "execution_count": 27,
   "id": "8787101e",
   "metadata": {},
   "outputs": [
    {
     "data": {
      "text/plain": [
       "Economy     206666\n",
       "Business     93487\n",
       "Name: class, dtype: int64"
      ]
     },
     "execution_count": 27,
     "metadata": {},
     "output_type": "execute_result"
    }
   ],
   "source": [
    "data['class'].value_counts()"
   ]
  },
  {
   "cell_type": "code",
   "execution_count": 28,
   "id": "9894452a",
   "metadata": {},
   "outputs": [
    {
     "name": "stderr",
     "output_type": "stream",
     "text": [
      "C:\\Users\\Vicky\\AppData\\Local\\Programs\\Python\\Python310\\lib\\site-packages\\seaborn\\_decorators.py:36: FutureWarning: Pass the following variable as a keyword arg: x. From version 0.12, the only valid positional argument will be `data`, and passing other arguments without an explicit keyword will result in an error or misinterpretation.\n",
      "  warnings.warn(\n"
     ]
    },
    {
     "data": {
      "image/png": "[encoded data removed]",
      "text/plain": [
       "<Figure size 432x288 with 1 Axes>"
      ]
     },
     "metadata": {
      "needs_background": "light"
     },
     "output_type": "display_data"
    }
   ],
   "source": [
    "sns.countplot(data['class'])\n",
    "plt.show()"
   ]
  },
  {
   "cell_type": "code",
   "execution_count": 30,
   "id": "a3add826",
   "metadata": {},
   "outputs": [
    {
     "data": {
      "image/png": "[encoded data removed]",
      "text/plain": [
       "<Figure size 720x360 with 1 Axes>"
      ]
     },
     "metadata": {
      "needs_background": "light"
     },
     "output_type": "display_data"
    }
   ],
   "source": [
    "plt.figure(figsize=(10,5))\n",
    "sns.boxplot(x=data['class'], y=data['price'])\n",
    "plt.show()"
   ]
  },
  {
   "cell_type": "markdown",
   "id": "cd971e55",
   "metadata": {},
   "source": [
    "### Which is the most expensive flight?"
   ]
  },
  {
   "cell_type": "code",
   "execution_count": 34,
   "id": "083faeb8",
   "metadata": {},
   "outputs": [
    {
     "data": {
      "text/html": [
       "<div>\n",
       "<style scoped>\n",
       "    .dataframe tbody tr th:only-of-type {\n",
       "        vertical-align: middle;\n",
       "    }\n",
       "\n",
       "    .dataframe tbody tr th {\n",
       "        vertical-align: top;\n",
       "    }\n",
       "\n",
       "    .dataframe thead th {\n",
       "        text-align: right;\n",
       "    }\n",
       "</style>\n",
       "<table border=\"1\" class=\"dataframe\">\n",
       "  <thead>\n",
       "    <tr style=\"text-align: right;\">\n",
       "      <th></th>\n",
       "      <th>airline</th>\n",
       "      <th>flight</th>\n",
       "      <th>source_city</th>\n",
       "      <th>departure_time</th>\n",
       "      <th>stops</th>\n",
       "      <th>arrival_time</th>\n",
       "      <th>destination_city</th>\n",
       "      <th>class</th>\n",
       "      <th>duration</th>\n",
       "      <th>days_left</th>\n",
       "      <th>price</th>\n",
       "    </tr>\n",
       "  </thead>\n",
       "  <tbody>\n",
       "    <tr>\n",
       "      <th>261377</th>\n",
       "      <td>Vistara</td>\n",
       "      <td>UK-772</td>\n",
       "      <td>Kolkata</td>\n",
       "      <td>Morning</td>\n",
       "      <td>one</td>\n",
       "      <td>Night</td>\n",
       "      <td>Delhi</td>\n",
       "      <td>Business</td>\n",
       "      <td>13.5</td>\n",
       "      <td>3</td>\n",
       "      <td>123071</td>\n",
       "    </tr>\n",
       "  </tbody>\n",
       "</table>\n",
       "</div>"
      ],
      "text/plain": [
       "        airline  flight source_city departure_time stops arrival_time  \\\n",
       "261377  Vistara  UK-772     Kolkata        Morning   one        Night   \n",
       "\n",
       "       destination_city     class  duration  days_left   price  \n",
       "261377            Delhi  Business      13.5          3  123071  "
      ]
     },
     "execution_count": 34,
     "metadata": {},
     "output_type": "execute_result"
    }
   ],
   "source": [
    "data[data['price'] == data['price'].max()]"
   ]
  },
  {
   "cell_type": "markdown",
   "id": "5679a11c",
   "metadata": {},
   "source": [
    "### Which is the cheapest flight?"
   ]
  },
  {
   "cell_type": "code",
   "execution_count": 35,
   "id": "994a1e92",
   "metadata": {},
   "outputs": [
    {
     "data": {
      "text/html": [
       "<div>\n",
       "<style scoped>\n",
       "    .dataframe tbody tr th:only-of-type {\n",
       "        vertical-align: middle;\n",
       "    }\n",
       "\n",
       "    .dataframe tbody tr th {\n",
       "        vertical-align: top;\n",
       "    }\n",
       "\n",
       "    .dataframe thead th {\n",
       "        text-align: right;\n",
       "    }\n",
       "</style>\n",
       "<table border=\"1\" class=\"dataframe\">\n",
       "  <thead>\n",
       "    <tr style=\"text-align: right;\">\n",
       "      <th></th>\n",
       "      <th>airline</th>\n",
       "      <th>flight</th>\n",
       "      <th>source_city</th>\n",
       "      <th>departure_time</th>\n",
       "      <th>stops</th>\n",
       "      <th>arrival_time</th>\n",
       "      <th>destination_city</th>\n",
       "      <th>class</th>\n",
       "      <th>duration</th>\n",
       "      <th>days_left</th>\n",
       "      <th>price</th>\n",
       "    </tr>\n",
       "  </thead>\n",
       "  <tbody>\n",
       "    <tr>\n",
       "      <th>203807</th>\n",
       "      <td>AirAsia</td>\n",
       "      <td>I5-517</td>\n",
       "      <td>Chennai</td>\n",
       "      <td>Morning</td>\n",
       "      <td>zero</td>\n",
       "      <td>Morning</td>\n",
       "      <td>Hyderabad</td>\n",
       "      <td>Economy</td>\n",
       "      <td>1.17</td>\n",
       "      <td>16</td>\n",
       "      <td>1105</td>\n",
       "    </tr>\n",
       "    <tr>\n",
       "      <th>203808</th>\n",
       "      <td>GO_FIRST</td>\n",
       "      <td>G8-505</td>\n",
       "      <td>Chennai</td>\n",
       "      <td>Evening</td>\n",
       "      <td>zero</td>\n",
       "      <td>Evening</td>\n",
       "      <td>Hyderabad</td>\n",
       "      <td>Economy</td>\n",
       "      <td>1.25</td>\n",
       "      <td>16</td>\n",
       "      <td>1105</td>\n",
       "    </tr>\n",
       "    <tr>\n",
       "      <th>203908</th>\n",
       "      <td>AirAsia</td>\n",
       "      <td>I5-517</td>\n",
       "      <td>Chennai</td>\n",
       "      <td>Morning</td>\n",
       "      <td>zero</td>\n",
       "      <td>Morning</td>\n",
       "      <td>Hyderabad</td>\n",
       "      <td>Economy</td>\n",
       "      <td>1.17</td>\n",
       "      <td>17</td>\n",
       "      <td>1105</td>\n",
       "    </tr>\n",
       "    <tr>\n",
       "      <th>203909</th>\n",
       "      <td>GO_FIRST</td>\n",
       "      <td>G8-505</td>\n",
       "      <td>Chennai</td>\n",
       "      <td>Evening</td>\n",
       "      <td>zero</td>\n",
       "      <td>Evening</td>\n",
       "      <td>Hyderabad</td>\n",
       "      <td>Economy</td>\n",
       "      <td>1.25</td>\n",
       "      <td>17</td>\n",
       "      <td>1105</td>\n",
       "    </tr>\n",
       "    <tr>\n",
       "      <th>204003</th>\n",
       "      <td>AirAsia</td>\n",
       "      <td>I5-517</td>\n",
       "      <td>Chennai</td>\n",
       "      <td>Morning</td>\n",
       "      <td>zero</td>\n",
       "      <td>Morning</td>\n",
       "      <td>Hyderabad</td>\n",
       "      <td>Economy</td>\n",
       "      <td>1.17</td>\n",
       "      <td>18</td>\n",
       "      <td>1105</td>\n",
       "    </tr>\n",
       "    <tr>\n",
       "      <th>...</th>\n",
       "      <td>...</td>\n",
       "      <td>...</td>\n",
       "      <td>...</td>\n",
       "      <td>...</td>\n",
       "      <td>...</td>\n",
       "      <td>...</td>\n",
       "      <td>...</td>\n",
       "      <td>...</td>\n",
       "      <td>...</td>\n",
       "      <td>...</td>\n",
       "      <td>...</td>\n",
       "    </tr>\n",
       "    <tr>\n",
       "      <th>206601</th>\n",
       "      <td>Indigo</td>\n",
       "      <td>6E-7261</td>\n",
       "      <td>Chennai</td>\n",
       "      <td>Morning</td>\n",
       "      <td>one</td>\n",
       "      <td>Evening</td>\n",
       "      <td>Hyderabad</td>\n",
       "      <td>Economy</td>\n",
       "      <td>7.92</td>\n",
       "      <td>49</td>\n",
       "      <td>1105</td>\n",
       "    </tr>\n",
       "    <tr>\n",
       "      <th>206602</th>\n",
       "      <td>Indigo</td>\n",
       "      <td>6E-611</td>\n",
       "      <td>Chennai</td>\n",
       "      <td>Evening</td>\n",
       "      <td>one</td>\n",
       "      <td>Late_Night</td>\n",
       "      <td>Hyderabad</td>\n",
       "      <td>Economy</td>\n",
       "      <td>8.25</td>\n",
       "      <td>49</td>\n",
       "      <td>1105</td>\n",
       "    </tr>\n",
       "    <tr>\n",
       "      <th>206603</th>\n",
       "      <td>Indigo</td>\n",
       "      <td>6E-581</td>\n",
       "      <td>Chennai</td>\n",
       "      <td>Morning</td>\n",
       "      <td>one</td>\n",
       "      <td>Evening</td>\n",
       "      <td>Hyderabad</td>\n",
       "      <td>Economy</td>\n",
       "      <td>9.17</td>\n",
       "      <td>49</td>\n",
       "      <td>1105</td>\n",
       "    </tr>\n",
       "    <tr>\n",
       "      <th>206604</th>\n",
       "      <td>Indigo</td>\n",
       "      <td>6E-7127</td>\n",
       "      <td>Chennai</td>\n",
       "      <td>Afternoon</td>\n",
       "      <td>one</td>\n",
       "      <td>Night</td>\n",
       "      <td>Hyderabad</td>\n",
       "      <td>Economy</td>\n",
       "      <td>9.50</td>\n",
       "      <td>49</td>\n",
       "      <td>1105</td>\n",
       "    </tr>\n",
       "    <tr>\n",
       "      <th>206605</th>\n",
       "      <td>Indigo</td>\n",
       "      <td>6E-7261</td>\n",
       "      <td>Chennai</td>\n",
       "      <td>Morning</td>\n",
       "      <td>one</td>\n",
       "      <td>Night</td>\n",
       "      <td>Hyderabad</td>\n",
       "      <td>Economy</td>\n",
       "      <td>10.08</td>\n",
       "      <td>49</td>\n",
       "      <td>1105</td>\n",
       "    </tr>\n",
       "  </tbody>\n",
       "</table>\n",
       "<p>300 rows × 11 columns</p>\n",
       "</div>"
      ],
      "text/plain": [
       "         airline   flight source_city departure_time stops arrival_time  \\\n",
       "203807   AirAsia   I5-517     Chennai        Morning  zero      Morning   \n",
       "203808  GO_FIRST   G8-505     Chennai        Evening  zero      Evening   \n",
       "203908   AirAsia   I5-517     Chennai        Morning  zero      Morning   \n",
       "203909  GO_FIRST   G8-505     Chennai        Evening  zero      Evening   \n",
       "204003   AirAsia   I5-517     Chennai        Morning  zero      Morning   \n",
       "...          ...      ...         ...            ...   ...          ...   \n",
       "206601    Indigo  6E-7261     Chennai        Morning   one      Evening   \n",
       "206602    Indigo   6E-611     Chennai        Evening   one   Late_Night   \n",
       "206603    Indigo   6E-581     Chennai        Morning   one      Evening   \n",
       "206604    Indigo  6E-7127     Chennai      Afternoon   one        Night   \n",
       "206605    Indigo  6E-7261     Chennai        Morning   one        Night   \n",
       "\n",
       "       destination_city    class  duration  days_left  price  \n",
       "203807        Hyderabad  Economy      1.17         16   1105  \n",
       "203808        Hyderabad  Economy      1.25         16   1105  \n",
       "203908        Hyderabad  Economy      1.17         17   1105  \n",
       "203909        Hyderabad  Economy      1.25         17   1105  \n",
       "204003        Hyderabad  Economy      1.17         18   1105  \n",
       "...                 ...      ...       ...        ...    ...  \n",
       "206601        Hyderabad  Economy      7.92         49   1105  \n",
       "206602        Hyderabad  Economy      8.25         49   1105  \n",
       "206603        Hyderabad  Economy      9.17         49   1105  \n",
       "206604        Hyderabad  Economy      9.50         49   1105  \n",
       "206605        Hyderabad  Economy     10.08         49   1105  \n",
       "\n",
       "[300 rows x 11 columns]"
      ]
     },
     "execution_count": 35,
     "metadata": {},
     "output_type": "execute_result"
    }
   ],
   "source": [
    "data[data['price'] == data['price'].min()]"
   ]
  },
  {
   "cell_type": "markdown",
   "id": "24448542",
   "metadata": {},
   "source": [
    "### Longest duration of Flight"
   ]
  },
  {
   "cell_type": "code",
   "execution_count": 37,
   "id": "245e4ccd",
   "metadata": {},
   "outputs": [
    {
     "data": {
      "text/html": [
       "<div>\n",
       "<style scoped>\n",
       "    .dataframe tbody tr th:only-of-type {\n",
       "        vertical-align: middle;\n",
       "    }\n",
       "\n",
       "    .dataframe tbody tr th {\n",
       "        vertical-align: top;\n",
       "    }\n",
       "\n",
       "    .dataframe thead th {\n",
       "        text-align: right;\n",
       "    }\n",
       "</style>\n",
       "<table border=\"1\" class=\"dataframe\">\n",
       "  <thead>\n",
       "    <tr style=\"text-align: right;\">\n",
       "      <th></th>\n",
       "      <th>airline</th>\n",
       "      <th>flight</th>\n",
       "      <th>source_city</th>\n",
       "      <th>departure_time</th>\n",
       "      <th>stops</th>\n",
       "      <th>arrival_time</th>\n",
       "      <th>destination_city</th>\n",
       "      <th>class</th>\n",
       "      <th>duration</th>\n",
       "      <th>days_left</th>\n",
       "      <th>price</th>\n",
       "    </tr>\n",
       "  </thead>\n",
       "  <tbody>\n",
       "    <tr>\n",
       "      <th>193889</th>\n",
       "      <td>Air_India</td>\n",
       "      <td>AI-672</td>\n",
       "      <td>Chennai</td>\n",
       "      <td>Evening</td>\n",
       "      <td>two_or_more</td>\n",
       "      <td>Evening</td>\n",
       "      <td>Bangalore</td>\n",
       "      <td>Economy</td>\n",
       "      <td>49.83</td>\n",
       "      <td>2</td>\n",
       "      <td>23891</td>\n",
       "    </tr>\n",
       "    <tr>\n",
       "      <th>194359</th>\n",
       "      <td>Air_India</td>\n",
       "      <td>AI-672</td>\n",
       "      <td>Chennai</td>\n",
       "      <td>Evening</td>\n",
       "      <td>one</td>\n",
       "      <td>Evening</td>\n",
       "      <td>Bangalore</td>\n",
       "      <td>Economy</td>\n",
       "      <td>49.83</td>\n",
       "      <td>9</td>\n",
       "      <td>17538</td>\n",
       "    </tr>\n",
       "  </tbody>\n",
       "</table>\n",
       "</div>"
      ],
      "text/plain": [
       "          airline  flight source_city departure_time        stops  \\\n",
       "193889  Air_India  AI-672     Chennai        Evening  two_or_more   \n",
       "194359  Air_India  AI-672     Chennai        Evening          one   \n",
       "\n",
       "       arrival_time destination_city    class  duration  days_left  price  \n",
       "193889      Evening        Bangalore  Economy     49.83          2  23891  \n",
       "194359      Evening        Bangalore  Economy     49.83          9  17538  "
      ]
     },
     "execution_count": 37,
     "metadata": {},
     "output_type": "execute_result"
    }
   ],
   "source": [
    "data[data['duration'] == data['duration'].max()]"
   ]
  },
  {
   "cell_type": "markdown",
   "id": "52d7485d",
   "metadata": {},
   "source": [
    "### Shortest duration of Flight"
   ]
  },
  {
   "cell_type": "code",
   "execution_count": 38,
   "id": "d0633aeb",
   "metadata": {
    "scrolled": true
   },
   "outputs": [
    {
     "data": {
      "text/html": [
       "<div>\n",
       "<style scoped>\n",
       "    .dataframe tbody tr th:only-of-type {\n",
       "        vertical-align: middle;\n",
       "    }\n",
       "\n",
       "    .dataframe tbody tr th {\n",
       "        vertical-align: top;\n",
       "    }\n",
       "\n",
       "    .dataframe thead th {\n",
       "        text-align: right;\n",
       "    }\n",
       "</style>\n",
       "<table border=\"1\" class=\"dataframe\">\n",
       "  <thead>\n",
       "    <tr style=\"text-align: right;\">\n",
       "      <th></th>\n",
       "      <th>airline</th>\n",
       "      <th>flight</th>\n",
       "      <th>source_city</th>\n",
       "      <th>departure_time</th>\n",
       "      <th>stops</th>\n",
       "      <th>arrival_time</th>\n",
       "      <th>destination_city</th>\n",
       "      <th>class</th>\n",
       "      <th>duration</th>\n",
       "      <th>days_left</th>\n",
       "      <th>price</th>\n",
       "    </tr>\n",
       "  </thead>\n",
       "  <tbody>\n",
       "    <tr>\n",
       "      <th>115869</th>\n",
       "      <td>Indigo</td>\n",
       "      <td>6E-357</td>\n",
       "      <td>Bangalore</td>\n",
       "      <td>Night</td>\n",
       "      <td>zero</td>\n",
       "      <td>Night</td>\n",
       "      <td>Chennai</td>\n",
       "      <td>Economy</td>\n",
       "      <td>0.83</td>\n",
       "      <td>6</td>\n",
       "      <td>3498</td>\n",
       "    </tr>\n",
       "    <tr>\n",
       "      <th>115943</th>\n",
       "      <td>Indigo</td>\n",
       "      <td>6E-357</td>\n",
       "      <td>Bangalore</td>\n",
       "      <td>Night</td>\n",
       "      <td>zero</td>\n",
       "      <td>Night</td>\n",
       "      <td>Chennai</td>\n",
       "      <td>Economy</td>\n",
       "      <td>0.83</td>\n",
       "      <td>7</td>\n",
       "      <td>3498</td>\n",
       "    </tr>\n",
       "    <tr>\n",
       "      <th>116010</th>\n",
       "      <td>Indigo</td>\n",
       "      <td>6E-357</td>\n",
       "      <td>Bangalore</td>\n",
       "      <td>Night</td>\n",
       "      <td>zero</td>\n",
       "      <td>Night</td>\n",
       "      <td>Chennai</td>\n",
       "      <td>Economy</td>\n",
       "      <td>0.83</td>\n",
       "      <td>8</td>\n",
       "      <td>3498</td>\n",
       "    </tr>\n",
       "    <tr>\n",
       "      <th>116081</th>\n",
       "      <td>Indigo</td>\n",
       "      <td>6E-357</td>\n",
       "      <td>Bangalore</td>\n",
       "      <td>Night</td>\n",
       "      <td>zero</td>\n",
       "      <td>Night</td>\n",
       "      <td>Chennai</td>\n",
       "      <td>Economy</td>\n",
       "      <td>0.83</td>\n",
       "      <td>9</td>\n",
       "      <td>3498</td>\n",
       "    </tr>\n",
       "    <tr>\n",
       "      <th>116163</th>\n",
       "      <td>Indigo</td>\n",
       "      <td>6E-357</td>\n",
       "      <td>Bangalore</td>\n",
       "      <td>Night</td>\n",
       "      <td>zero</td>\n",
       "      <td>Night</td>\n",
       "      <td>Chennai</td>\n",
       "      <td>Economy</td>\n",
       "      <td>0.83</td>\n",
       "      <td>10</td>\n",
       "      <td>3498</td>\n",
       "    </tr>\n",
       "    <tr>\n",
       "      <th>116236</th>\n",
       "      <td>Indigo</td>\n",
       "      <td>6E-357</td>\n",
       "      <td>Bangalore</td>\n",
       "      <td>Night</td>\n",
       "      <td>zero</td>\n",
       "      <td>Night</td>\n",
       "      <td>Chennai</td>\n",
       "      <td>Economy</td>\n",
       "      <td>0.83</td>\n",
       "      <td>11</td>\n",
       "      <td>3498</td>\n",
       "    </tr>\n",
       "    <tr>\n",
       "      <th>116322</th>\n",
       "      <td>Indigo</td>\n",
       "      <td>6E-357</td>\n",
       "      <td>Bangalore</td>\n",
       "      <td>Night</td>\n",
       "      <td>zero</td>\n",
       "      <td>Night</td>\n",
       "      <td>Chennai</td>\n",
       "      <td>Economy</td>\n",
       "      <td>0.83</td>\n",
       "      <td>12</td>\n",
       "      <td>3498</td>\n",
       "    </tr>\n",
       "    <tr>\n",
       "      <th>116411</th>\n",
       "      <td>Indigo</td>\n",
       "      <td>6E-357</td>\n",
       "      <td>Bangalore</td>\n",
       "      <td>Night</td>\n",
       "      <td>zero</td>\n",
       "      <td>Night</td>\n",
       "      <td>Chennai</td>\n",
       "      <td>Economy</td>\n",
       "      <td>0.83</td>\n",
       "      <td>13</td>\n",
       "      <td>3498</td>\n",
       "    </tr>\n",
       "    <tr>\n",
       "      <th>116496</th>\n",
       "      <td>Indigo</td>\n",
       "      <td>6E-357</td>\n",
       "      <td>Bangalore</td>\n",
       "      <td>Night</td>\n",
       "      <td>zero</td>\n",
       "      <td>Night</td>\n",
       "      <td>Chennai</td>\n",
       "      <td>Economy</td>\n",
       "      <td>0.83</td>\n",
       "      <td>14</td>\n",
       "      <td>3498</td>\n",
       "    </tr>\n",
       "    <tr>\n",
       "      <th>116656</th>\n",
       "      <td>Indigo</td>\n",
       "      <td>6E-357</td>\n",
       "      <td>Bangalore</td>\n",
       "      <td>Night</td>\n",
       "      <td>zero</td>\n",
       "      <td>Night</td>\n",
       "      <td>Chennai</td>\n",
       "      <td>Economy</td>\n",
       "      <td>0.83</td>\n",
       "      <td>16</td>\n",
       "      <td>1924</td>\n",
       "    </tr>\n",
       "    <tr>\n",
       "      <th>116835</th>\n",
       "      <td>Indigo</td>\n",
       "      <td>6E-357</td>\n",
       "      <td>Bangalore</td>\n",
       "      <td>Night</td>\n",
       "      <td>zero</td>\n",
       "      <td>Night</td>\n",
       "      <td>Chennai</td>\n",
       "      <td>Economy</td>\n",
       "      <td>0.83</td>\n",
       "      <td>18</td>\n",
       "      <td>1924</td>\n",
       "    </tr>\n",
       "    <tr>\n",
       "      <th>116924</th>\n",
       "      <td>Indigo</td>\n",
       "      <td>6E-357</td>\n",
       "      <td>Bangalore</td>\n",
       "      <td>Night</td>\n",
       "      <td>zero</td>\n",
       "      <td>Night</td>\n",
       "      <td>Chennai</td>\n",
       "      <td>Economy</td>\n",
       "      <td>0.83</td>\n",
       "      <td>19</td>\n",
       "      <td>1924</td>\n",
       "    </tr>\n",
       "    <tr>\n",
       "      <th>117019</th>\n",
       "      <td>Indigo</td>\n",
       "      <td>6E-357</td>\n",
       "      <td>Bangalore</td>\n",
       "      <td>Night</td>\n",
       "      <td>zero</td>\n",
       "      <td>Night</td>\n",
       "      <td>Chennai</td>\n",
       "      <td>Economy</td>\n",
       "      <td>0.83</td>\n",
       "      <td>20</td>\n",
       "      <td>1924</td>\n",
       "    </tr>\n",
       "    <tr>\n",
       "      <th>117101</th>\n",
       "      <td>Indigo</td>\n",
       "      <td>6E-357</td>\n",
       "      <td>Bangalore</td>\n",
       "      <td>Night</td>\n",
       "      <td>zero</td>\n",
       "      <td>Night</td>\n",
       "      <td>Chennai</td>\n",
       "      <td>Economy</td>\n",
       "      <td>0.83</td>\n",
       "      <td>21</td>\n",
       "      <td>1924</td>\n",
       "    </tr>\n",
       "    <tr>\n",
       "      <th>117190</th>\n",
       "      <td>Indigo</td>\n",
       "      <td>6E-357</td>\n",
       "      <td>Bangalore</td>\n",
       "      <td>Night</td>\n",
       "      <td>zero</td>\n",
       "      <td>Night</td>\n",
       "      <td>Chennai</td>\n",
       "      <td>Economy</td>\n",
       "      <td>0.83</td>\n",
       "      <td>22</td>\n",
       "      <td>1924</td>\n",
       "    </tr>\n",
       "    <tr>\n",
       "      <th>117274</th>\n",
       "      <td>Indigo</td>\n",
       "      <td>6E-357</td>\n",
       "      <td>Bangalore</td>\n",
       "      <td>Night</td>\n",
       "      <td>zero</td>\n",
       "      <td>Night</td>\n",
       "      <td>Chennai</td>\n",
       "      <td>Economy</td>\n",
       "      <td>0.83</td>\n",
       "      <td>23</td>\n",
       "      <td>1924</td>\n",
       "    </tr>\n",
       "    <tr>\n",
       "      <th>117366</th>\n",
       "      <td>Indigo</td>\n",
       "      <td>6E-357</td>\n",
       "      <td>Bangalore</td>\n",
       "      <td>Night</td>\n",
       "      <td>zero</td>\n",
       "      <td>Night</td>\n",
       "      <td>Chennai</td>\n",
       "      <td>Economy</td>\n",
       "      <td>0.83</td>\n",
       "      <td>24</td>\n",
       "      <td>1924</td>\n",
       "    </tr>\n",
       "    <tr>\n",
       "      <th>117461</th>\n",
       "      <td>Indigo</td>\n",
       "      <td>6E-357</td>\n",
       "      <td>Bangalore</td>\n",
       "      <td>Night</td>\n",
       "      <td>zero</td>\n",
       "      <td>Night</td>\n",
       "      <td>Chennai</td>\n",
       "      <td>Economy</td>\n",
       "      <td>0.83</td>\n",
       "      <td>25</td>\n",
       "      <td>1924</td>\n",
       "    </tr>\n",
       "    <tr>\n",
       "      <th>117547</th>\n",
       "      <td>Indigo</td>\n",
       "      <td>6E-357</td>\n",
       "      <td>Bangalore</td>\n",
       "      <td>Night</td>\n",
       "      <td>zero</td>\n",
       "      <td>Night</td>\n",
       "      <td>Chennai</td>\n",
       "      <td>Economy</td>\n",
       "      <td>0.83</td>\n",
       "      <td>26</td>\n",
       "      <td>1924</td>\n",
       "    </tr>\n",
       "    <tr>\n",
       "      <th>117643</th>\n",
       "      <td>Indigo</td>\n",
       "      <td>6E-357</td>\n",
       "      <td>Bangalore</td>\n",
       "      <td>Night</td>\n",
       "      <td>zero</td>\n",
       "      <td>Night</td>\n",
       "      <td>Chennai</td>\n",
       "      <td>Economy</td>\n",
       "      <td>0.83</td>\n",
       "      <td>27</td>\n",
       "      <td>1924</td>\n",
       "    </tr>\n",
       "    <tr>\n",
       "      <th>117728</th>\n",
       "      <td>Indigo</td>\n",
       "      <td>6E-357</td>\n",
       "      <td>Bangalore</td>\n",
       "      <td>Night</td>\n",
       "      <td>zero</td>\n",
       "      <td>Night</td>\n",
       "      <td>Chennai</td>\n",
       "      <td>Economy</td>\n",
       "      <td>0.83</td>\n",
       "      <td>28</td>\n",
       "      <td>1924</td>\n",
       "    </tr>\n",
       "    <tr>\n",
       "      <th>117817</th>\n",
       "      <td>Indigo</td>\n",
       "      <td>6E-357</td>\n",
       "      <td>Bangalore</td>\n",
       "      <td>Night</td>\n",
       "      <td>zero</td>\n",
       "      <td>Night</td>\n",
       "      <td>Chennai</td>\n",
       "      <td>Economy</td>\n",
       "      <td>0.83</td>\n",
       "      <td>29</td>\n",
       "      <td>1924</td>\n",
       "    </tr>\n",
       "    <tr>\n",
       "      <th>117900</th>\n",
       "      <td>Indigo</td>\n",
       "      <td>6E-357</td>\n",
       "      <td>Bangalore</td>\n",
       "      <td>Night</td>\n",
       "      <td>zero</td>\n",
       "      <td>Night</td>\n",
       "      <td>Chennai</td>\n",
       "      <td>Economy</td>\n",
       "      <td>0.83</td>\n",
       "      <td>30</td>\n",
       "      <td>1924</td>\n",
       "    </tr>\n",
       "    <tr>\n",
       "      <th>117995</th>\n",
       "      <td>Indigo</td>\n",
       "      <td>6E-357</td>\n",
       "      <td>Bangalore</td>\n",
       "      <td>Night</td>\n",
       "      <td>zero</td>\n",
       "      <td>Night</td>\n",
       "      <td>Chennai</td>\n",
       "      <td>Economy</td>\n",
       "      <td>0.83</td>\n",
       "      <td>31</td>\n",
       "      <td>1604</td>\n",
       "    </tr>\n",
       "    <tr>\n",
       "      <th>118086</th>\n",
       "      <td>Indigo</td>\n",
       "      <td>6E-357</td>\n",
       "      <td>Bangalore</td>\n",
       "      <td>Night</td>\n",
       "      <td>zero</td>\n",
       "      <td>Night</td>\n",
       "      <td>Chennai</td>\n",
       "      <td>Economy</td>\n",
       "      <td>0.83</td>\n",
       "      <td>32</td>\n",
       "      <td>1604</td>\n",
       "    </tr>\n",
       "    <tr>\n",
       "      <th>118173</th>\n",
       "      <td>Indigo</td>\n",
       "      <td>6E-357</td>\n",
       "      <td>Bangalore</td>\n",
       "      <td>Night</td>\n",
       "      <td>zero</td>\n",
       "      <td>Night</td>\n",
       "      <td>Chennai</td>\n",
       "      <td>Economy</td>\n",
       "      <td>0.83</td>\n",
       "      <td>33</td>\n",
       "      <td>1604</td>\n",
       "    </tr>\n",
       "    <tr>\n",
       "      <th>118269</th>\n",
       "      <td>Indigo</td>\n",
       "      <td>6E-357</td>\n",
       "      <td>Bangalore</td>\n",
       "      <td>Night</td>\n",
       "      <td>zero</td>\n",
       "      <td>Night</td>\n",
       "      <td>Chennai</td>\n",
       "      <td>Economy</td>\n",
       "      <td>0.83</td>\n",
       "      <td>34</td>\n",
       "      <td>1604</td>\n",
       "    </tr>\n",
       "    <tr>\n",
       "      <th>118355</th>\n",
       "      <td>Indigo</td>\n",
       "      <td>6E-357</td>\n",
       "      <td>Bangalore</td>\n",
       "      <td>Night</td>\n",
       "      <td>zero</td>\n",
       "      <td>Night</td>\n",
       "      <td>Chennai</td>\n",
       "      <td>Economy</td>\n",
       "      <td>0.83</td>\n",
       "      <td>35</td>\n",
       "      <td>1604</td>\n",
       "    </tr>\n",
       "    <tr>\n",
       "      <th>118445</th>\n",
       "      <td>Indigo</td>\n",
       "      <td>6E-357</td>\n",
       "      <td>Bangalore</td>\n",
       "      <td>Night</td>\n",
       "      <td>zero</td>\n",
       "      <td>Night</td>\n",
       "      <td>Chennai</td>\n",
       "      <td>Economy</td>\n",
       "      <td>0.83</td>\n",
       "      <td>36</td>\n",
       "      <td>1604</td>\n",
       "    </tr>\n",
       "    <tr>\n",
       "      <th>118528</th>\n",
       "      <td>Indigo</td>\n",
       "      <td>6E-357</td>\n",
       "      <td>Bangalore</td>\n",
       "      <td>Night</td>\n",
       "      <td>zero</td>\n",
       "      <td>Night</td>\n",
       "      <td>Chennai</td>\n",
       "      <td>Economy</td>\n",
       "      <td>0.83</td>\n",
       "      <td>37</td>\n",
       "      <td>1604</td>\n",
       "    </tr>\n",
       "    <tr>\n",
       "      <th>118622</th>\n",
       "      <td>Indigo</td>\n",
       "      <td>6E-357</td>\n",
       "      <td>Bangalore</td>\n",
       "      <td>Night</td>\n",
       "      <td>zero</td>\n",
       "      <td>Night</td>\n",
       "      <td>Chennai</td>\n",
       "      <td>Economy</td>\n",
       "      <td>0.83</td>\n",
       "      <td>38</td>\n",
       "      <td>1604</td>\n",
       "    </tr>\n",
       "    <tr>\n",
       "      <th>118712</th>\n",
       "      <td>Indigo</td>\n",
       "      <td>6E-357</td>\n",
       "      <td>Bangalore</td>\n",
       "      <td>Night</td>\n",
       "      <td>zero</td>\n",
       "      <td>Night</td>\n",
       "      <td>Chennai</td>\n",
       "      <td>Economy</td>\n",
       "      <td>0.83</td>\n",
       "      <td>39</td>\n",
       "      <td>1604</td>\n",
       "    </tr>\n",
       "    <tr>\n",
       "      <th>118799</th>\n",
       "      <td>Indigo</td>\n",
       "      <td>6E-357</td>\n",
       "      <td>Bangalore</td>\n",
       "      <td>Night</td>\n",
       "      <td>zero</td>\n",
       "      <td>Night</td>\n",
       "      <td>Chennai</td>\n",
       "      <td>Economy</td>\n",
       "      <td>0.83</td>\n",
       "      <td>40</td>\n",
       "      <td>1604</td>\n",
       "    </tr>\n",
       "    <tr>\n",
       "      <th>118896</th>\n",
       "      <td>Indigo</td>\n",
       "      <td>6E-357</td>\n",
       "      <td>Bangalore</td>\n",
       "      <td>Night</td>\n",
       "      <td>zero</td>\n",
       "      <td>Night</td>\n",
       "      <td>Chennai</td>\n",
       "      <td>Economy</td>\n",
       "      <td>0.83</td>\n",
       "      <td>41</td>\n",
       "      <td>1604</td>\n",
       "    </tr>\n",
       "    <tr>\n",
       "      <th>118982</th>\n",
       "      <td>Indigo</td>\n",
       "      <td>6E-357</td>\n",
       "      <td>Bangalore</td>\n",
       "      <td>Night</td>\n",
       "      <td>zero</td>\n",
       "      <td>Night</td>\n",
       "      <td>Chennai</td>\n",
       "      <td>Economy</td>\n",
       "      <td>0.83</td>\n",
       "      <td>42</td>\n",
       "      <td>1604</td>\n",
       "    </tr>\n",
       "    <tr>\n",
       "      <th>119072</th>\n",
       "      <td>Indigo</td>\n",
       "      <td>6E-357</td>\n",
       "      <td>Bangalore</td>\n",
       "      <td>Night</td>\n",
       "      <td>zero</td>\n",
       "      <td>Night</td>\n",
       "      <td>Chennai</td>\n",
       "      <td>Economy</td>\n",
       "      <td>0.83</td>\n",
       "      <td>43</td>\n",
       "      <td>1604</td>\n",
       "    </tr>\n",
       "    <tr>\n",
       "      <th>119155</th>\n",
       "      <td>Indigo</td>\n",
       "      <td>6E-357</td>\n",
       "      <td>Bangalore</td>\n",
       "      <td>Night</td>\n",
       "      <td>zero</td>\n",
       "      <td>Night</td>\n",
       "      <td>Chennai</td>\n",
       "      <td>Economy</td>\n",
       "      <td>0.83</td>\n",
       "      <td>44</td>\n",
       "      <td>1604</td>\n",
       "    </tr>\n",
       "    <tr>\n",
       "      <th>197354</th>\n",
       "      <td>Indigo</td>\n",
       "      <td>6E-987</td>\n",
       "      <td>Chennai</td>\n",
       "      <td>Early_Morning</td>\n",
       "      <td>zero</td>\n",
       "      <td>Early_Morning</td>\n",
       "      <td>Bangalore</td>\n",
       "      <td>Economy</td>\n",
       "      <td>0.83</td>\n",
       "      <td>45</td>\n",
       "      <td>1443</td>\n",
       "    </tr>\n",
       "    <tr>\n",
       "      <th>197355</th>\n",
       "      <td>Indigo</td>\n",
       "      <td>6E-477</td>\n",
       "      <td>Chennai</td>\n",
       "      <td>Early_Morning</td>\n",
       "      <td>zero</td>\n",
       "      <td>Morning</td>\n",
       "      <td>Bangalore</td>\n",
       "      <td>Economy</td>\n",
       "      <td>0.83</td>\n",
       "      <td>45</td>\n",
       "      <td>1443</td>\n",
       "    </tr>\n",
       "    <tr>\n",
       "      <th>197356</th>\n",
       "      <td>Indigo</td>\n",
       "      <td>6E-6137</td>\n",
       "      <td>Chennai</td>\n",
       "      <td>Morning</td>\n",
       "      <td>zero</td>\n",
       "      <td>Morning</td>\n",
       "      <td>Bangalore</td>\n",
       "      <td>Economy</td>\n",
       "      <td>0.83</td>\n",
       "      <td>45</td>\n",
       "      <td>1443</td>\n",
       "    </tr>\n",
       "    <tr>\n",
       "      <th>197445</th>\n",
       "      <td>Indigo</td>\n",
       "      <td>6E-987</td>\n",
       "      <td>Chennai</td>\n",
       "      <td>Early_Morning</td>\n",
       "      <td>zero</td>\n",
       "      <td>Early_Morning</td>\n",
       "      <td>Bangalore</td>\n",
       "      <td>Economy</td>\n",
       "      <td>0.83</td>\n",
       "      <td>46</td>\n",
       "      <td>1443</td>\n",
       "    </tr>\n",
       "    <tr>\n",
       "      <th>197446</th>\n",
       "      <td>Indigo</td>\n",
       "      <td>6E-477</td>\n",
       "      <td>Chennai</td>\n",
       "      <td>Early_Morning</td>\n",
       "      <td>zero</td>\n",
       "      <td>Morning</td>\n",
       "      <td>Bangalore</td>\n",
       "      <td>Economy</td>\n",
       "      <td>0.83</td>\n",
       "      <td>46</td>\n",
       "      <td>1443</td>\n",
       "    </tr>\n",
       "    <tr>\n",
       "      <th>197447</th>\n",
       "      <td>Indigo</td>\n",
       "      <td>6E-6137</td>\n",
       "      <td>Chennai</td>\n",
       "      <td>Morning</td>\n",
       "      <td>zero</td>\n",
       "      <td>Morning</td>\n",
       "      <td>Bangalore</td>\n",
       "      <td>Economy</td>\n",
       "      <td>0.83</td>\n",
       "      <td>46</td>\n",
       "      <td>1443</td>\n",
       "    </tr>\n",
       "    <tr>\n",
       "      <th>197537</th>\n",
       "      <td>Indigo</td>\n",
       "      <td>6E-987</td>\n",
       "      <td>Chennai</td>\n",
       "      <td>Early_Morning</td>\n",
       "      <td>zero</td>\n",
       "      <td>Early_Morning</td>\n",
       "      <td>Bangalore</td>\n",
       "      <td>Economy</td>\n",
       "      <td>0.83</td>\n",
       "      <td>47</td>\n",
       "      <td>1443</td>\n",
       "    </tr>\n",
       "    <tr>\n",
       "      <th>197538</th>\n",
       "      <td>Indigo</td>\n",
       "      <td>6E-477</td>\n",
       "      <td>Chennai</td>\n",
       "      <td>Early_Morning</td>\n",
       "      <td>zero</td>\n",
       "      <td>Morning</td>\n",
       "      <td>Bangalore</td>\n",
       "      <td>Economy</td>\n",
       "      <td>0.83</td>\n",
       "      <td>47</td>\n",
       "      <td>1443</td>\n",
       "    </tr>\n",
       "    <tr>\n",
       "      <th>197539</th>\n",
       "      <td>Indigo</td>\n",
       "      <td>6E-6137</td>\n",
       "      <td>Chennai</td>\n",
       "      <td>Morning</td>\n",
       "      <td>zero</td>\n",
       "      <td>Morning</td>\n",
       "      <td>Bangalore</td>\n",
       "      <td>Economy</td>\n",
       "      <td>0.83</td>\n",
       "      <td>47</td>\n",
       "      <td>1443</td>\n",
       "    </tr>\n",
       "    <tr>\n",
       "      <th>197626</th>\n",
       "      <td>Indigo</td>\n",
       "      <td>6E-987</td>\n",
       "      <td>Chennai</td>\n",
       "      <td>Early_Morning</td>\n",
       "      <td>zero</td>\n",
       "      <td>Early_Morning</td>\n",
       "      <td>Bangalore</td>\n",
       "      <td>Economy</td>\n",
       "      <td>0.83</td>\n",
       "      <td>48</td>\n",
       "      <td>1443</td>\n",
       "    </tr>\n",
       "    <tr>\n",
       "      <th>197627</th>\n",
       "      <td>Indigo</td>\n",
       "      <td>6E-477</td>\n",
       "      <td>Chennai</td>\n",
       "      <td>Early_Morning</td>\n",
       "      <td>zero</td>\n",
       "      <td>Morning</td>\n",
       "      <td>Bangalore</td>\n",
       "      <td>Economy</td>\n",
       "      <td>0.83</td>\n",
       "      <td>48</td>\n",
       "      <td>1443</td>\n",
       "    </tr>\n",
       "    <tr>\n",
       "      <th>197628</th>\n",
       "      <td>Indigo</td>\n",
       "      <td>6E-6137</td>\n",
       "      <td>Chennai</td>\n",
       "      <td>Morning</td>\n",
       "      <td>zero</td>\n",
       "      <td>Morning</td>\n",
       "      <td>Bangalore</td>\n",
       "      <td>Economy</td>\n",
       "      <td>0.83</td>\n",
       "      <td>48</td>\n",
       "      <td>1443</td>\n",
       "    </tr>\n",
       "    <tr>\n",
       "      <th>197712</th>\n",
       "      <td>Indigo</td>\n",
       "      <td>6E-987</td>\n",
       "      <td>Chennai</td>\n",
       "      <td>Early_Morning</td>\n",
       "      <td>zero</td>\n",
       "      <td>Early_Morning</td>\n",
       "      <td>Bangalore</td>\n",
       "      <td>Economy</td>\n",
       "      <td>0.83</td>\n",
       "      <td>49</td>\n",
       "      <td>1443</td>\n",
       "    </tr>\n",
       "    <tr>\n",
       "      <th>197713</th>\n",
       "      <td>Indigo</td>\n",
       "      <td>6E-477</td>\n",
       "      <td>Chennai</td>\n",
       "      <td>Early_Morning</td>\n",
       "      <td>zero</td>\n",
       "      <td>Morning</td>\n",
       "      <td>Bangalore</td>\n",
       "      <td>Economy</td>\n",
       "      <td>0.83</td>\n",
       "      <td>49</td>\n",
       "      <td>1443</td>\n",
       "    </tr>\n",
       "    <tr>\n",
       "      <th>197724</th>\n",
       "      <td>Indigo</td>\n",
       "      <td>6E-6137</td>\n",
       "      <td>Chennai</td>\n",
       "      <td>Morning</td>\n",
       "      <td>zero</td>\n",
       "      <td>Morning</td>\n",
       "      <td>Bangalore</td>\n",
       "      <td>Economy</td>\n",
       "      <td>0.83</td>\n",
       "      <td>49</td>\n",
       "      <td>1549</td>\n",
       "    </tr>\n",
       "  </tbody>\n",
       "</table>\n",
       "</div>"
      ],
      "text/plain": [
       "       airline   flight source_city departure_time stops   arrival_time  \\\n",
       "115869  Indigo   6E-357   Bangalore          Night  zero          Night   \n",
       "115943  Indigo   6E-357   Bangalore          Night  zero          Night   \n",
       "116010  Indigo   6E-357   Bangalore          Night  zero          Night   \n",
       "116081  Indigo   6E-357   Bangalore          Night  zero          Night   \n",
       "116163  Indigo   6E-357   Bangalore          Night  zero          Night   \n",
       "116236  Indigo   6E-357   Bangalore          Night  zero          Night   \n",
       "116322  Indigo   6E-357   Bangalore          Night  zero          Night   \n",
       "116411  Indigo   6E-357   Bangalore          Night  zero          Night   \n",
       "116496  Indigo   6E-357   Bangalore          Night  zero          Night   \n",
       "116656  Indigo   6E-357   Bangalore          Night  zero          Night   \n",
       "116835  Indigo   6E-357   Bangalore          Night  zero          Night   \n",
       "116924  Indigo   6E-357   Bangalore          Night  zero          Night   \n",
       "117019  Indigo   6E-357   Bangalore          Night  zero          Night   \n",
       "117101  Indigo   6E-357   Bangalore          Night  zero          Night   \n",
       "117190  Indigo   6E-357   Bangalore          Night  zero          Night   \n",
       "117274  Indigo   6E-357   Bangalore          Night  zero          Night   \n",
       "117366  Indigo   6E-357   Bangalore          Night  zero          Night   \n",
       "117461  Indigo   6E-357   Bangalore          Night  zero          Night   \n",
       "117547  Indigo   6E-357   Bangalore          Night  zero          Night   \n",
       "117643  Indigo   6E-357   Bangalore          Night  zero          Night   \n",
       "117728  Indigo   6E-357   Bangalore          Night  zero          Night   \n",
       "117817  Indigo   6E-357   Bangalore          Night  zero          Night   \n",
       "117900  Indigo   6E-357   Bangalore          Night  zero          Night   \n",
       "117995  Indigo   6E-357   Bangalore          Night  zero          Night   \n",
       "118086  Indigo   6E-357   Bangalore          Night  zero          Night   \n",
       "118173  Indigo   6E-357   Bangalore          Night  zero          Night   \n",
       "118269  Indigo   6E-357   Bangalore          Night  zero          Night   \n",
       "118355  Indigo   6E-357   Bangalore          Night  zero          Night   \n",
       "118445  Indigo   6E-357   Bangalore          Night  zero          Night   \n",
       "118528  Indigo   6E-357   Bangalore          Night  zero          Night   \n",
       "118622  Indigo   6E-357   Bangalore          Night  zero          Night   \n",
       "118712  Indigo   6E-357   Bangalore          Night  zero          Night   \n",
       "118799  Indigo   6E-357   Bangalore          Night  zero          Night   \n",
       "118896  Indigo   6E-357   Bangalore          Night  zero          Night   \n",
       "118982  Indigo   6E-357   Bangalore          Night  zero          Night   \n",
       "119072  Indigo   6E-357   Bangalore          Night  zero          Night   \n",
       "119155  Indigo   6E-357   Bangalore          Night  zero          Night   \n",
       "197354  Indigo   6E-987     Chennai  Early_Morning  zero  Early_Morning   \n",
       "197355  Indigo   6E-477     Chennai  Early_Morning  zero        Morning   \n",
       "197356  Indigo  6E-6137     Chennai        Morning  zero        Morning   \n",
       "197445  Indigo   6E-987     Chennai  Early_Morning  zero  Early_Morning   \n",
       "197446  Indigo   6E-477     Chennai  Early_Morning  zero        Morning   \n",
       "197447  Indigo  6E-6137     Chennai        Morning  zero        Morning   \n",
       "197537  Indigo   6E-987     Chennai  Early_Morning  zero  Early_Morning   \n",
       "197538  Indigo   6E-477     Chennai  Early_Morning  zero        Morning   \n",
       "197539  Indigo  6E-6137     Chennai        Morning  zero        Morning   \n",
       "197626  Indigo   6E-987     Chennai  Early_Morning  zero  Early_Morning   \n",
       "197627  Indigo   6E-477     Chennai  Early_Morning  zero        Morning   \n",
       "197628  Indigo  6E-6137     Chennai        Morning  zero        Morning   \n",
       "197712  Indigo   6E-987     Chennai  Early_Morning  zero  Early_Morning   \n",
       "197713  Indigo   6E-477     Chennai  Early_Morning  zero        Morning   \n",
       "197724  Indigo  6E-6137     Chennai        Morning  zero        Morning   \n",
       "\n",
       "       destination_city    class  duration  days_left  price  \n",
       "115869          Chennai  Economy      0.83          6   3498  \n",
       "115943          Chennai  Economy      0.83          7   3498  \n",
       "116010          Chennai  Economy      0.83          8   3498  \n",
       "116081          Chennai  Economy      0.83          9   3498  \n",
       "116163          Chennai  Economy      0.83         10   3498  \n",
       "116236          Chennai  Economy      0.83         11   3498  \n",
       "116322          Chennai  Economy      0.83         12   3498  \n",
       "116411          Chennai  Economy      0.83         13   3498  \n",
       "116496          Chennai  Economy      0.83         14   3498  \n",
       "116656          Chennai  Economy      0.83         16   1924  \n",
       "116835          Chennai  Economy      0.83         18   1924  \n",
       "116924          Chennai  Economy      0.83         19   1924  \n",
       "117019          Chennai  Economy      0.83         20   1924  \n",
       "117101          Chennai  Economy      0.83         21   1924  \n",
       "117190          Chennai  Economy      0.83         22   1924  \n",
       "117274          Chennai  Economy      0.83         23   1924  \n",
       "117366          Chennai  Economy      0.83         24   1924  \n",
       "117461          Chennai  Economy      0.83         25   1924  \n",
       "117547          Chennai  Economy      0.83         26   1924  \n",
       "117643          Chennai  Economy      0.83         27   1924  \n",
       "117728          Chennai  Economy      0.83         28   1924  \n",
       "117817          Chennai  Economy      0.83         29   1924  \n",
       "117900          Chennai  Economy      0.83         30   1924  \n",
       "117995          Chennai  Economy      0.83         31   1604  \n",
       "118086          Chennai  Economy      0.83         32   1604  \n",
       "118173          Chennai  Economy      0.83         33   1604  \n",
       "118269          Chennai  Economy      0.83         34   1604  \n",
       "118355          Chennai  Economy      0.83         35   1604  \n",
       "118445          Chennai  Economy      0.83         36   1604  \n",
       "118528          Chennai  Economy      0.83         37   1604  \n",
       "118622          Chennai  Economy      0.83         38   1604  \n",
       "118712          Chennai  Economy      0.83         39   1604  \n",
       "118799          Chennai  Economy      0.83         40   1604  \n",
       "118896          Chennai  Economy      0.83         41   1604  \n",
       "118982          Chennai  Economy      0.83         42   1604  \n",
       "119072          Chennai  Economy      0.83         43   1604  \n",
       "119155          Chennai  Economy      0.83         44   1604  \n",
       "197354        Bangalore  Economy      0.83         45   1443  \n",
       "197355        Bangalore  Economy      0.83         45   1443  \n",
       "197356        Bangalore  Economy      0.83         45   1443  \n",
       "197445        Bangalore  Economy      0.83         46   1443  \n",
       "197446        Bangalore  Economy      0.83         46   1443  \n",
       "197447        Bangalore  Economy      0.83         46   1443  \n",
       "197537        Bangalore  Economy      0.83         47   1443  \n",
       "197538        Bangalore  Economy      0.83         47   1443  \n",
       "197539        Bangalore  Economy      0.83         47   1443  \n",
       "197626        Bangalore  Economy      0.83         48   1443  \n",
       "197627        Bangalore  Economy      0.83         48   1443  \n",
       "197628        Bangalore  Economy      0.83         48   1443  \n",
       "197712        Bangalore  Economy      0.83         49   1443  \n",
       "197713        Bangalore  Economy      0.83         49   1443  \n",
       "197724        Bangalore  Economy      0.83         49   1549  "
      ]
     },
     "execution_count": 38,
     "metadata": {},
     "output_type": "execute_result"
    }
   ],
   "source": [
    "data[data['duration'] == data['duration'].min()]"
   ]
  },
  {
   "cell_type": "markdown",
   "id": "de230b98",
   "metadata": {},
   "source": [
    "### Top 10 flights"
   ]
  },
  {
   "cell_type": "code",
   "execution_count": 41,
   "id": "c6c43e50",
   "metadata": {},
   "outputs": [
    {
     "data": {
      "text/plain": [
       "UK-706    3235\n",
       "UK-772    2741\n",
       "UK-720    2650\n",
       "UK-836    2542\n",
       "UK-822    2468\n",
       "UK-828    2440\n",
       "UK-874    2423\n",
       "UK-832    2404\n",
       "UK-826    2335\n",
       "UK-860    2329\n",
       "Name: flight, dtype: int64"
      ]
     },
     "execution_count": 41,
     "metadata": {},
     "output_type": "execute_result"
    }
   ],
   "source": [
    "data['flight'].value_counts().head(10)"
   ]
  },
  {
   "cell_type": "markdown",
   "id": "c8c97a92",
   "metadata": {},
   "source": [
    "### Flights that take one Stops"
   ]
  },
  {
   "cell_type": "code",
   "execution_count": 49,
   "id": "f3f0a9a5",
   "metadata": {},
   "outputs": [
    {
     "data": {
      "text/html": [
       "<div>\n",
       "<style scoped>\n",
       "    .dataframe tbody tr th:only-of-type {\n",
       "        vertical-align: middle;\n",
       "    }\n",
       "\n",
       "    .dataframe tbody tr th {\n",
       "        vertical-align: top;\n",
       "    }\n",
       "\n",
       "    .dataframe thead th {\n",
       "        text-align: right;\n",
       "    }\n",
       "</style>\n",
       "<table border=\"1\" class=\"dataframe\">\n",
       "  <thead>\n",
       "    <tr style=\"text-align: right;\">\n",
       "      <th></th>\n",
       "      <th>airline</th>\n",
       "      <th>flight</th>\n",
       "      <th>source_city</th>\n",
       "      <th>departure_time</th>\n",
       "      <th>stops</th>\n",
       "      <th>arrival_time</th>\n",
       "      <th>destination_city</th>\n",
       "      <th>class</th>\n",
       "      <th>duration</th>\n",
       "      <th>days_left</th>\n",
       "      <th>price</th>\n",
       "    </tr>\n",
       "  </thead>\n",
       "  <tbody>\n",
       "    <tr>\n",
       "      <th>18</th>\n",
       "      <td>AirAsia</td>\n",
       "      <td>I5-747</td>\n",
       "      <td>Delhi</td>\n",
       "      <td>Evening</td>\n",
       "      <td>one</td>\n",
       "      <td>Early_Morning</td>\n",
       "      <td>Mumbai</td>\n",
       "      <td>Economy</td>\n",
       "      <td>12.25</td>\n",
       "      <td>1</td>\n",
       "      <td>5949</td>\n",
       "    </tr>\n",
       "    <tr>\n",
       "      <th>19</th>\n",
       "      <td>AirAsia</td>\n",
       "      <td>I5-747</td>\n",
       "      <td>Delhi</td>\n",
       "      <td>Evening</td>\n",
       "      <td>one</td>\n",
       "      <td>Morning</td>\n",
       "      <td>Mumbai</td>\n",
       "      <td>Economy</td>\n",
       "      <td>16.33</td>\n",
       "      <td>1</td>\n",
       "      <td>5949</td>\n",
       "    </tr>\n",
       "    <tr>\n",
       "      <th>20</th>\n",
       "      <td>GO_FIRST</td>\n",
       "      <td>G8-266</td>\n",
       "      <td>Delhi</td>\n",
       "      <td>Early_Morning</td>\n",
       "      <td>one</td>\n",
       "      <td>Evening</td>\n",
       "      <td>Mumbai</td>\n",
       "      <td>Economy</td>\n",
       "      <td>11.75</td>\n",
       "      <td>1</td>\n",
       "      <td>5954</td>\n",
       "    </tr>\n",
       "    <tr>\n",
       "      <th>21</th>\n",
       "      <td>GO_FIRST</td>\n",
       "      <td>G8-101</td>\n",
       "      <td>Delhi</td>\n",
       "      <td>Early_Morning</td>\n",
       "      <td>one</td>\n",
       "      <td>Night</td>\n",
       "      <td>Mumbai</td>\n",
       "      <td>Economy</td>\n",
       "      <td>14.50</td>\n",
       "      <td>1</td>\n",
       "      <td>5954</td>\n",
       "    </tr>\n",
       "    <tr>\n",
       "      <th>22</th>\n",
       "      <td>GO_FIRST</td>\n",
       "      <td>G8-103</td>\n",
       "      <td>Delhi</td>\n",
       "      <td>Evening</td>\n",
       "      <td>one</td>\n",
       "      <td>Morning</td>\n",
       "      <td>Mumbai</td>\n",
       "      <td>Economy</td>\n",
       "      <td>15.67</td>\n",
       "      <td>1</td>\n",
       "      <td>5954</td>\n",
       "    </tr>\n",
       "    <tr>\n",
       "      <th>...</th>\n",
       "      <td>...</td>\n",
       "      <td>...</td>\n",
       "      <td>...</td>\n",
       "      <td>...</td>\n",
       "      <td>...</td>\n",
       "      <td>...</td>\n",
       "      <td>...</td>\n",
       "      <td>...</td>\n",
       "      <td>...</td>\n",
       "      <td>...</td>\n",
       "      <td>...</td>\n",
       "    </tr>\n",
       "    <tr>\n",
       "      <th>300148</th>\n",
       "      <td>Vistara</td>\n",
       "      <td>UK-822</td>\n",
       "      <td>Chennai</td>\n",
       "      <td>Morning</td>\n",
       "      <td>one</td>\n",
       "      <td>Evening</td>\n",
       "      <td>Hyderabad</td>\n",
       "      <td>Business</td>\n",
       "      <td>10.08</td>\n",
       "      <td>49</td>\n",
       "      <td>69265</td>\n",
       "    </tr>\n",
       "    <tr>\n",
       "      <th>300149</th>\n",
       "      <td>Vistara</td>\n",
       "      <td>UK-826</td>\n",
       "      <td>Chennai</td>\n",
       "      <td>Afternoon</td>\n",
       "      <td>one</td>\n",
       "      <td>Night</td>\n",
       "      <td>Hyderabad</td>\n",
       "      <td>Business</td>\n",
       "      <td>10.42</td>\n",
       "      <td>49</td>\n",
       "      <td>77105</td>\n",
       "    </tr>\n",
       "    <tr>\n",
       "      <th>300150</th>\n",
       "      <td>Vistara</td>\n",
       "      <td>UK-832</td>\n",
       "      <td>Chennai</td>\n",
       "      <td>Early_Morning</td>\n",
       "      <td>one</td>\n",
       "      <td>Night</td>\n",
       "      <td>Hyderabad</td>\n",
       "      <td>Business</td>\n",
       "      <td>13.83</td>\n",
       "      <td>49</td>\n",
       "      <td>79099</td>\n",
       "    </tr>\n",
       "    <tr>\n",
       "      <th>300151</th>\n",
       "      <td>Vistara</td>\n",
       "      <td>UK-828</td>\n",
       "      <td>Chennai</td>\n",
       "      <td>Early_Morning</td>\n",
       "      <td>one</td>\n",
       "      <td>Evening</td>\n",
       "      <td>Hyderabad</td>\n",
       "      <td>Business</td>\n",
       "      <td>10.00</td>\n",
       "      <td>49</td>\n",
       "      <td>81585</td>\n",
       "    </tr>\n",
       "    <tr>\n",
       "      <th>300152</th>\n",
       "      <td>Vistara</td>\n",
       "      <td>UK-822</td>\n",
       "      <td>Chennai</td>\n",
       "      <td>Morning</td>\n",
       "      <td>one</td>\n",
       "      <td>Evening</td>\n",
       "      <td>Hyderabad</td>\n",
       "      <td>Business</td>\n",
       "      <td>10.08</td>\n",
       "      <td>49</td>\n",
       "      <td>81585</td>\n",
       "    </tr>\n",
       "  </tbody>\n",
       "</table>\n",
       "<p>250863 rows × 11 columns</p>\n",
       "</div>"
      ],
      "text/plain": [
       "         airline  flight source_city departure_time stops   arrival_time  \\\n",
       "18       AirAsia  I5-747       Delhi        Evening   one  Early_Morning   \n",
       "19       AirAsia  I5-747       Delhi        Evening   one        Morning   \n",
       "20      GO_FIRST  G8-266       Delhi  Early_Morning   one        Evening   \n",
       "21      GO_FIRST  G8-101       Delhi  Early_Morning   one          Night   \n",
       "22      GO_FIRST  G8-103       Delhi        Evening   one        Morning   \n",
       "...          ...     ...         ...            ...   ...            ...   \n",
       "300148   Vistara  UK-822     Chennai        Morning   one        Evening   \n",
       "300149   Vistara  UK-826     Chennai      Afternoon   one          Night   \n",
       "300150   Vistara  UK-832     Chennai  Early_Morning   one          Night   \n",
       "300151   Vistara  UK-828     Chennai  Early_Morning   one        Evening   \n",
       "300152   Vistara  UK-822     Chennai        Morning   one        Evening   \n",
       "\n",
       "       destination_city     class  duration  days_left  price  \n",
       "18               Mumbai   Economy     12.25          1   5949  \n",
       "19               Mumbai   Economy     16.33          1   5949  \n",
       "20               Mumbai   Economy     11.75          1   5954  \n",
       "21               Mumbai   Economy     14.50          1   5954  \n",
       "22               Mumbai   Economy     15.67          1   5954  \n",
       "...                 ...       ...       ...        ...    ...  \n",
       "300148        Hyderabad  Business     10.08         49  69265  \n",
       "300149        Hyderabad  Business     10.42         49  77105  \n",
       "300150        Hyderabad  Business     13.83         49  79099  \n",
       "300151        Hyderabad  Business     10.00         49  81585  \n",
       "300152        Hyderabad  Business     10.08         49  81585  \n",
       "\n",
       "[250863 rows x 11 columns]"
      ]
     },
     "execution_count": 49,
     "metadata": {},
     "output_type": "execute_result"
    }
   ],
   "source": [
    "data[data['stops'] == 'one']"
   ]
  },
  {
   "cell_type": "markdown",
   "id": "4a87f3b2",
   "metadata": {},
   "source": [
    "### Average Price of Flight"
   ]
  },
  {
   "cell_type": "code",
   "execution_count": 45,
   "id": "2d8a983e",
   "metadata": {},
   "outputs": [
    {
     "data": {
      "text/plain": [
       "20889.660523133203"
      ]
     },
     "execution_count": 45,
     "metadata": {},
     "output_type": "execute_result"
    }
   ],
   "source": [
    "data['price'].mean()"
   ]
  },
  {
   "cell_type": "markdown",
   "id": "94d3ad15",
   "metadata": {},
   "source": [
    "### Flights that take few days"
   ]
  },
  {
   "cell_type": "code",
   "execution_count": 51,
   "id": "bfc71904",
   "metadata": {},
   "outputs": [
    {
     "data": {
      "text/plain": [
       "1"
      ]
     },
     "execution_count": 51,
     "metadata": {},
     "output_type": "execute_result"
    }
   ],
   "source": [
    "data['days_left'].min()"
   ]
  },
  {
   "cell_type": "markdown",
   "id": "50b404bf",
   "metadata": {},
   "source": [
    "###  Flights that take more days"
   ]
  },
  {
   "cell_type": "code",
   "execution_count": 52,
   "id": "7157763d",
   "metadata": {},
   "outputs": [
    {
     "data": {
      "text/plain": [
       "49"
      ]
     },
     "execution_count": 52,
     "metadata": {},
     "output_type": "execute_result"
    }
   ],
   "source": [
    "data['days_left'].max()"
   ]
  },
  {
   "cell_type": "markdown",
   "id": "7756babe",
   "metadata": {},
   "source": [
    "### Flights that has average days left"
   ]
  },
  {
   "cell_type": "code",
   "execution_count": 53,
   "id": "2a746cec",
   "metadata": {},
   "outputs": [
    {
     "data": {
      "text/plain": [
       "26.004750910369044"
      ]
     },
     "execution_count": 53,
     "metadata": {},
     "output_type": "execute_result"
    }
   ],
   "source": [
    "data['days_left'].mean()"
   ]
  },
  {
   "cell_type": "code",
   "execution_count": null,
   "id": "8f45e0b6",
   "metadata": {},
   "outputs": [],
   "source": []
  }
 ],
 "metadata": {
  "kernelspec": {
   "display_name": "Python 3 (ipykernel)",
   "language": "python",
   "name": "python3"
  },
  "language_info": {
   "codemirror_mode": {
    "name": "ipython",
    "version": 3
   },
   "file_extension": ".py",
   "mimetype": "text/x-python",
   "name": "python",
   "nbconvert_exporter": "python",
   "pygments_lexer": "ipython3",
   "version": "3.10.0"
  }
 },
 "nbformat": 4,
 "nbformat_minor": 5
}
